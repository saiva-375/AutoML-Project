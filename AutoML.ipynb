{
  "nbformat": 4,
  "nbformat_minor": 0,
  "metadata": {
    "colab": {
      "provenance": []
    },
    "kernelspec": {
      "name": "python3",
      "display_name": "Python 3"
    },
    "language_info": {
      "name": "python"
    }
  },
  "cells": [
    {
      "cell_type": "code",
      "execution_count": 113,
      "metadata": {
        "id": "w1OrWqylwGmR"
      },
      "outputs": [],
      "source": [
        "import pandas as pd\n",
        "import numpy as np\n",
        "from sklearn.model_selection import train_test_split, cross_val_score\n",
        "from sklearn.preprocessing import StandardScaler, OneHotEncoder, LabelEncoder\n",
        "from sklearn.linear_model import LinearRegression, LogisticRegression\n",
        "from sklearn.tree import DecisionTreeRegressor, DecisionTreeClassifier\n",
        "from sklearn.ensemble import RandomForestRegressor, RandomForestClassifier, GradientBoostingRegressor, GradientBoostingClassifier\n",
        "from sklearn.svm import SVR, SVC\n",
        "from sklearn.neighbors import KNeighborsRegressor, KNeighborsClassifier\n",
        "from sklearn.model_selection import train_test_split, GridSearchCV\n",
        "from sklearn.metrics import mean_squared_error, accuracy_score, precision_score, recall_score, f1_score, roc_auc_score\n",
        "from sklearn.feature_selection import RFE\n",
        "from sklearn.impute import SimpleImputer\n",
        "import matplotlib.pyplot as plt\n",
        "import seaborn as sns\n",
        "import joblib"
      ]
    },
    {
      "cell_type": "code",
      "source": [
        "df = pd.read_csv('pima-indians-diabetes.csv')"
      ],
      "metadata": {
        "id": "PCe74VaRwTnu"
      },
      "execution_count": 114,
      "outputs": []
    },
    {
      "cell_type": "code",
      "source": [
        "# Handle missing values - impute missing values using the mean\n",
        "imputer = SimpleImputer(strategy='mean')\n",
        "df_imputed = pd.DataFrame(imputer.fit_transform(df), columns=df.columns)\n",
        "print(df_imputed.head())"
      ],
      "metadata": {
        "colab": {
          "base_uri": "https://localhost:8080/"
        },
        "id": "gZFxq-SIyqIz",
        "outputId": "2ffaa352-6790-4893-b0c1-09573e48e86a"
      },
      "execution_count": 115,
      "outputs": [
        {
          "output_type": "stream",
          "name": "stdout",
          "text": [
            "   Pregnancies  Glucose  BloodPressure  SkinThickness  Insulin   BMI  \\\n",
            "0          6.0    148.0           72.0           35.0      0.0  33.6   \n",
            "1          1.0     85.0           66.0           29.0      0.0  26.6   \n",
            "2          8.0    183.0           64.0            0.0      0.0  23.3   \n",
            "3          1.0     89.0           66.0           23.0     94.0  28.1   \n",
            "4          0.0    137.0           40.0           35.0    168.0  43.1   \n",
            "\n",
            "   DiabetespedigreeFunction   Age  Outcome  \n",
            "0                     0.627  50.0      1.0  \n",
            "1                     0.351  31.0      0.0  \n",
            "2                     0.672  32.0      1.0  \n",
            "3                     0.167  21.0      0.0  \n",
            "4                     2.288  33.0      1.0  \n"
          ]
        }
      ]
    },
    {
      "cell_type": "code",
      "source": [
        "# Handle outliers using Z-score (e.g., remove values with z-scores greater than 3)\n",
        "from scipy import stats\n",
        "z_scores = np.abs(stats.zscore(df_imputed.select_dtypes(include=[np.number])))\n",
        "df_no_outliers = df_imputed[(z_scores < 3).all(axis=1)]\n",
        "print(df_no_outliers.head())"
      ],
      "metadata": {
        "colab": {
          "base_uri": "https://localhost:8080/"
        },
        "id": "i5gVvTVk2xGr",
        "outputId": "f81fbd89-5466-449d-c8e5-c976a248e791"
      },
      "execution_count": 116,
      "outputs": [
        {
          "output_type": "stream",
          "name": "stdout",
          "text": [
            "   Pregnancies  Glucose  BloodPressure  SkinThickness  Insulin   BMI  \\\n",
            "0          6.0    148.0           72.0           35.0      0.0  33.6   \n",
            "1          1.0     85.0           66.0           29.0      0.0  26.6   \n",
            "2          8.0    183.0           64.0            0.0      0.0  23.3   \n",
            "3          1.0     89.0           66.0           23.0     94.0  28.1   \n",
            "5          5.0    116.0           74.0            0.0      0.0  25.6   \n",
            "\n",
            "   DiabetespedigreeFunction   Age  Outcome  \n",
            "0                     0.627  50.0      1.0  \n",
            "1                     0.351  31.0      0.0  \n",
            "2                     0.672  32.0      1.0  \n",
            "3                     0.167  21.0      0.0  \n",
            "5                     0.201  30.0      0.0  \n"
          ]
        }
      ]
    },
    {
      "cell_type": "code",
      "source": [
        "# Feature scaling\n",
        "scaler = StandardScaler()\n",
        "X = df_no_outliers.drop('Outcome', axis=1)\n",
        "y = df_no_outliers['Outcome']\n",
        "X_scaled = pd.DataFrame(scaler.fit_transform(X), columns=X.columns)\n",
        "print(X_scaled.head())"
      ],
      "metadata": {
        "colab": {
          "base_uri": "https://localhost:8080/"
        },
        "id": "d-upgGds27Q6",
        "outputId": "259989ec-42f3-4d18-9b3d-d1d8cfcf0859"
      },
      "execution_count": 117,
      "outputs": [
        {
          "output_type": "stream",
          "name": "stdout",
          "text": [
            "   Pregnancies   Glucose  BloodPressure  SkinThickness   Insulin       BMI  \\\n",
            "0     0.657355  0.924040      -0.028115       0.923219 -0.805266  0.210285   \n",
            "1    -0.868490 -1.177082      -0.515765       0.533462 -0.805266 -0.848063   \n",
            "2     1.267694  2.091330      -0.678315      -1.350366 -0.805266 -1.346999   \n",
            "3    -0.868490 -1.043678      -0.515765       0.143704  0.238698 -0.621274   \n",
            "4     0.352186 -0.143197       0.134435      -1.350366 -0.805266 -0.999256   \n",
            "\n",
            "   DiabetespedigreeFunction       Age  \n",
            "0                  0.606516  1.479220  \n",
            "1                 -0.364220 -0.183265  \n",
            "2                  0.764788 -0.095766  \n",
            "3                 -1.011378 -1.058257  \n",
            "4                 -0.891795 -0.270764  \n"
          ]
        }
      ]
    },
    {
      "cell_type": "code",
      "source": [
        "# 2. Feature Selection using Recursive Feature Elimination (RFE)\n",
        "model = LogisticRegression()  # You can use any model here, Logistic Regression for binary classification\n",
        "selector = RFE(model, n_features_to_select=5)  # Select the top 5 features\n",
        "X_selected = selector.fit_transform(X_scaled, y)\n",
        "selected_features = X.columns[selector.support_]\n",
        "print(f\"Selected Features: {selected_features}\")"
      ],
      "metadata": {
        "colab": {
          "base_uri": "https://localhost:8080/"
        },
        "id": "_OprOlkx3HES",
        "outputId": "6d0e54e6-1176-42b1-d183-3a62926414c8"
      },
      "execution_count": 118,
      "outputs": [
        {
          "output_type": "stream",
          "name": "stdout",
          "text": [
            "Selected Features: Index(['Pregnancies', 'Glucose', 'BMI', 'DiabetespedigreeFunction', 'Age'], dtype='object')\n"
          ]
        }
      ]
    },
    {
      "cell_type": "code",
      "source": [
        "# 3. Model Training and Evaluation\n",
        "\n",
        "# Split the data into train and test sets\n",
        "X_train, X_test, y_train, y_test = train_test_split(X_selected, y, test_size=0.2, random_state=42)"
      ],
      "metadata": {
        "id": "COijprKy3a1T"
      },
      "execution_count": 119,
      "outputs": []
    },
    {
      "cell_type": "code",
      "source": [
        "from sklearn.metrics import accuracy_score, precision_score, recall_score, f1_score, roc_auc_score, mean_squared_error, roc_curve, auc\n",
        "from sklearn.linear_model import LinearRegression, LogisticRegression, Ridge, Lasso"
      ],
      "metadata": {
        "id": "REuHQyeb3xal"
      },
      "execution_count": 120,
      "outputs": []
    },
    {
      "cell_type": "code",
      "source": [
        "# Define the models for each type\n",
        "models = {\n",
        "    'Logistic Regression': LogisticRegression(),\n",
        "    'SVM': SVC(probability=True),  # Set probability=True for ROC curve\n",
        "    'KNN': KNeighborsClassifier(),\n",
        "    'Linear Regression': LinearRegression(),\n",
        "    'Ridge Regression': Ridge(),\n",
        "    'Lasso Regression': Lasso()\n",
        "}"
      ],
      "metadata": {
        "id": "aD3987nL3kWf"
      },
      "execution_count": 121,
      "outputs": []
    },
    {
      "cell_type": "code",
      "source": [
        "# Model Evaluation Metrics\n",
        "metrics = {\n",
        "    'accuracy': [],\n",
        "    'precision': [],\n",
        "    'recall': [],\n",
        "    'f1': [],\n",
        "    'rmse': [],\n",
        "    'roc_auc': []\n",
        "}"
      ],
      "metadata": {
        "id": "0hT_Gz5v30Pe"
      },
      "execution_count": 122,
      "outputs": []
    },
    {
      "cell_type": "code",
      "source": [
        "# Prepare a list of dictionaries to store the metrics for each model\n",
        "metrics_list = []"
      ],
      "metadata": {
        "id": "tfybKxtu6L44"
      },
      "execution_count": 123,
      "outputs": []
    },
    {
      "cell_type": "code",
      "source": [
        "# Logistic Regression\n",
        "print(f\"Training Logistic Regression...\")\n",
        "param_grid_logreg = {'C': [0.01, 0.1, 1, 10], 'solver': ['liblinear']}\n",
        "grid_search_logreg = GridSearchCV(models['Logistic Regression'], param_grid_logreg, cv=5, scoring='accuracy')\n",
        "grid_search_logreg.fit(X_train, y_train)\n",
        "best_model_logreg = grid_search_logreg.best_estimator_\n",
        "print(f\"Best Params for Logistic Regression: {grid_search_logreg.best_params_}\")\n",
        "\n",
        "# Logistic Regression Evaluation\n",
        "y_pred_logreg = best_model_logreg.predict(X_test)\n",
        "accuracy_logreg = accuracy_score(y_test, y_pred_logreg)\n",
        "precision_logreg = precision_score(y_test, y_pred_logreg)\n",
        "recall_logreg = recall_score(y_test, y_pred_logreg)\n",
        "f1_logreg = f1_score(y_test, y_pred_logreg)\n",
        "rmse_logreg = np.sqrt(mean_squared_error(y_test, y_pred_logreg))\n",
        "y_prob_logreg = best_model_logreg.predict_proba(X_test)[:, 1]\n",
        "fpr_logreg, tpr_logreg, _ = roc_curve(y_test, y_prob_logreg)\n",
        "roc_auc_logreg = auc(fpr_logreg, tpr_logreg)\n",
        "\n",
        "metrics_list.append({\n",
        "    'Model': 'Logistic Regression',\n",
        "    'Accuracy': accuracy_logreg,\n",
        "    'Precision': precision_logreg,\n",
        "    'Recall': recall_logreg,\n",
        "    'F1 Score': f1_logreg,\n",
        "    'RMSE': rmse_logreg,\n",
        "    'AUC-ROC': roc_auc_logreg\n",
        "})"
      ],
      "metadata": {
        "colab": {
          "base_uri": "https://localhost:8080/"
        },
        "id": "XkEf6cp0344a",
        "outputId": "f2eaf64e-8c37-4a3f-f212-9f5b373734a2"
      },
      "execution_count": 124,
      "outputs": [
        {
          "output_type": "stream",
          "name": "stdout",
          "text": [
            "Training Logistic Regression...\n",
            "Best Params for Logistic Regression: {'C': 0.1, 'solver': 'liblinear'}\n"
          ]
        }
      ]
    },
    {
      "cell_type": "code",
      "source": [
        "# SVM\n",
        "print(f\"Training SVM...\")\n",
        "param_grid_svm = {'C': [0.1, 1, 10], 'kernel': ['linear', 'rbf']}\n",
        "grid_search_svm = GridSearchCV(models['SVM'], param_grid_svm, cv=5, scoring='accuracy')\n",
        "grid_search_svm.fit(X_train, y_train)\n",
        "best_model_svm = grid_search_svm.best_estimator_\n",
        "print(f\"Best Params for SVM: {grid_search_svm.best_params_}\")\n",
        "\n",
        "# SVM Evaluation\n",
        "y_pred_svm = best_model_svm.predict(X_test)\n",
        "accuracy_svm = accuracy_score(y_test, y_pred_svm)\n",
        "precision_svm = precision_score(y_test, y_pred_svm)\n",
        "recall_svm = recall_score(y_test, y_pred_svm)\n",
        "f1_svm = f1_score(y_test, y_pred_svm)\n",
        "rmse_svm = np.sqrt(mean_squared_error(y_test, y_pred_svm))\n",
        "y_prob_svm = best_model_svm.predict_proba(X_test)[:, 1]\n",
        "fpr_svm, tpr_svm, _ = roc_curve(y_test, y_prob_svm)\n",
        "roc_auc_svm = auc(fpr_svm, tpr_svm)\n",
        "\n",
        "metrics_list.append({\n",
        "    'Model': 'SVM',\n",
        "    'Accuracy': accuracy_svm,\n",
        "    'Precision': precision_svm,\n",
        "    'Recall': recall_svm,\n",
        "    'F1 Score': f1_svm,\n",
        "    'RMSE': rmse_svm,\n",
        "    'AUC-ROC': roc_auc_svm\n",
        "})"
      ],
      "metadata": {
        "colab": {
          "base_uri": "https://localhost:8080/"
        },
        "id": "M7JvMBlE9eof",
        "outputId": "c4ce084b-6ac4-4079-f4e8-349f0762920e"
      },
      "execution_count": 125,
      "outputs": [
        {
          "output_type": "stream",
          "name": "stdout",
          "text": [
            "Training SVM...\n",
            "Best Params for SVM: {'C': 0.1, 'kernel': 'linear'}\n"
          ]
        }
      ]
    },
    {
      "cell_type": "code",
      "source": [
        "# KNN\n",
        "print(f\"Training KNN...\")\n",
        "param_grid_knn = {'n_neighbors': [3, 5, 7, 9], 'metric': ['euclidean', 'manhattan']}\n",
        "grid_search_knn = GridSearchCV(models['KNN'], param_grid_knn, cv=5, scoring='accuracy')\n",
        "grid_search_knn.fit(X_train, y_train)\n",
        "best_model_knn = grid_search_knn.best_estimator_\n",
        "print(f\"Best Params for KNN: {grid_search_knn.best_params_}\")\n",
        "\n",
        "# KNN Evaluation\n",
        "y_pred_knn = best_model_knn.predict(X_test)\n",
        "accuracy_knn = accuracy_score(y_test, y_pred_knn)\n",
        "precision_knn = precision_score(y_test, y_pred_knn)\n",
        "recall_knn = recall_score(y_test, y_pred_knn)\n",
        "f1_knn = f1_score(y_test, y_pred_knn)\n",
        "rmse_knn = np.sqrt(mean_squared_error(y_test, y_pred_knn))\n",
        "y_prob_knn = best_model_knn.predict_proba(X_test)[:, 1]\n",
        "fpr_knn, tpr_knn, _ = roc_curve(y_test, y_prob_knn)\n",
        "roc_auc_knn = auc(fpr_knn, tpr_knn)\n",
        "\n",
        "metrics_list.append({\n",
        "    'Model': 'KNN',\n",
        "    'Accuracy': accuracy_knn,\n",
        "    'Precision': precision_knn,\n",
        "    'Recall': recall_knn,\n",
        "    'F1 Score': f1_knn,\n",
        "    'RMSE': rmse_knn,\n",
        "    'AUC-ROC': roc_auc_knn\n",
        "})"
      ],
      "metadata": {
        "colab": {
          "base_uri": "https://localhost:8080/"
        },
        "id": "1BJXPamZ9n1f",
        "outputId": "85f90785-adab-43e0-be42-7cc3f0c52635"
      },
      "execution_count": 126,
      "outputs": [
        {
          "output_type": "stream",
          "name": "stdout",
          "text": [
            "Training KNN...\n",
            "Best Params for KNN: {'metric': 'manhattan', 'n_neighbors': 9}\n"
          ]
        }
      ]
    },
    {
      "cell_type": "code",
      "source": [
        "# Linear Regression\n",
        "print(f\"Training Linear Regression...\")\n",
        "linear_model = models['Linear Regression'].fit(X_train, y_train)\n",
        "\n",
        "# Linear Regression Evaluation\n",
        "y_pred_linear = linear_model.predict(X_test)\n",
        "y_pred_linear = np.round(y_pred_linear)  # Convert to binary prediction\n",
        "accuracy_linear = accuracy_score(y_test, y_pred_linear)\n",
        "precision_linear = precision_score(y_test, y_pred_linear)\n",
        "recall_linear = recall_score(y_test, y_pred_linear)\n",
        "f1_linear = f1_score(y_test, y_pred_linear)\n",
        "rmse_linear = np.sqrt(mean_squared_error(y_test, y_pred_linear))\n",
        "roc_auc_linear = None\n",
        "\n",
        "metrics_list.append({\n",
        "    'Model': 'Linear Regression',\n",
        "    'Accuracy': accuracy_linear,\n",
        "    'Precision': precision_linear,\n",
        "    'Recall': recall_linear,\n",
        "    'F1 Score': f1_linear,\n",
        "    'RMSE': rmse_linear,\n",
        "    'AUC-ROC': roc_auc_linear if roc_auc_linear is not None else 'N/A'\n",
        "})"
      ],
      "metadata": {
        "colab": {
          "base_uri": "https://localhost:8080/"
        },
        "id": "ITsoaXTs9vuT",
        "outputId": "b56a4741-7576-4365-fc99-1a9fcf90653c"
      },
      "execution_count": 127,
      "outputs": [
        {
          "output_type": "stream",
          "name": "stdout",
          "text": [
            "Training Linear Regression...\n"
          ]
        }
      ]
    },
    {
      "cell_type": "code",
      "source": [
        "# Ridge Regression\n",
        "print(f\"Training Ridge Regression...\")\n",
        "ridge_model = models['Ridge Regression'].fit(X_train, y_train)\n",
        "\n",
        "# Ridge Regression Evaluation\n",
        "y_pred_ridge = ridge_model.predict(X_test)\n",
        "y_pred_ridge = np.round(y_pred_ridge)  # Convert to binary prediction\n",
        "accuracy_ridge = accuracy_score(y_test, y_pred_ridge)\n",
        "precision_ridge = precision_score(y_test, y_pred_ridge)\n",
        "recall_ridge = recall_score(y_test, y_pred_ridge)\n",
        "f1_ridge = f1_score(y_test, y_pred_ridge)\n",
        "rmse_ridge = np.sqrt(mean_squared_error(y_test, y_pred_ridge))\n",
        "roc_auc_ridge = None\n",
        "\n",
        "metrics_list.append({\n",
        "    'Model': 'Ridge Regression',\n",
        "    'Accuracy': accuracy_ridge,\n",
        "    'Precision': precision_ridge,\n",
        "    'Recall': recall_ridge,\n",
        "    'F1 Score': f1_ridge,\n",
        "    'RMSE': rmse_ridge,\n",
        "    'AUC-ROC': roc_auc_ridge if roc_auc_ridge is not None else 'N/A'\n",
        "})"
      ],
      "metadata": {
        "colab": {
          "base_uri": "https://localhost:8080/"
        },
        "id": "h2FuRYah98m9",
        "outputId": "afb6200a-9812-4f9b-e390-fe0b0b4c608b"
      },
      "execution_count": 128,
      "outputs": [
        {
          "output_type": "stream",
          "name": "stdout",
          "text": [
            "Training Ridge Regression...\n"
          ]
        }
      ]
    },
    {
      "cell_type": "code",
      "source": [
        "# Lasso Regression\n",
        "print(f\"Training Lasso Regression...\")\n",
        "lasso_model = models['Lasso Regression'].fit(X_train, y_train)\n",
        "\n",
        "# Lasso Regression Evaluation\n",
        "y_pred_lasso = lasso_model.predict(X_test)\n",
        "y_pred_lasso = np.round(y_pred_lasso)  # Convert to binary prediction\n",
        "accuracy_lasso = accuracy_score(y_test, y_pred_lasso)\n",
        "precision_lasso = precision_score(y_test, y_pred_lasso)\n",
        "recall_lasso = recall_score(y_test, y_pred_lasso)\n",
        "f1_lasso = f1_score(y_test, y_pred_lasso)\n",
        "rmse_lasso = np.sqrt(mean_squared_error(y_test, y_pred_lasso))\n",
        "roc_auc_lasso = None\n",
        "\n",
        "metrics_list.append({\n",
        "    'Model': 'Lasso Regression',\n",
        "    'Accuracy': accuracy_lasso,\n",
        "    'Precision': precision_lasso,\n",
        "    'Recall': recall_lasso,\n",
        "    'F1 Score': f1_lasso,\n",
        "    'RMSE': rmse_lasso,\n",
        "    'AUC-ROC': roc_auc_lasso if roc_auc_lasso is not None else 'N/A'\n",
        "})"
      ],
      "metadata": {
        "colab": {
          "base_uri": "https://localhost:8080/"
        },
        "id": "p98dQeGS9-ny",
        "outputId": "d59e9cb7-074a-4e14-c2c1-c42e4216f3be"
      },
      "execution_count": 129,
      "outputs": [
        {
          "output_type": "stream",
          "name": "stdout",
          "text": [
            "Training Lasso Regression...\n"
          ]
        },
        {
          "output_type": "stream",
          "name": "stderr",
          "text": [
            "/usr/local/lib/python3.11/dist-packages/sklearn/metrics/_classification.py:1565: UndefinedMetricWarning: Precision is ill-defined and being set to 0.0 due to no predicted samples. Use `zero_division` parameter to control this behavior.\n",
            "  _warn_prf(average, modifier, f\"{metric.capitalize()} is\", len(result))\n"
          ]
        }
      ]
    },
    {
      "cell_type": "code",
      "source": [
        "# 4. Convert the list of metrics into a DataFrame\n",
        "metrics_df = pd.DataFrame(metrics_list)\n",
        "print(metrics_df)"
      ],
      "metadata": {
        "colab": {
          "base_uri": "https://localhost:8080/"
        },
        "id": "wllMTPif4-MD",
        "outputId": "357630b1-e174-4620-d9ce-c2bb3d726e32"
      },
      "execution_count": 130,
      "outputs": [
        {
          "output_type": "stream",
          "name": "stdout",
          "text": [
            "                 Model  Accuracy  Precision    Recall  F1 Score      RMSE  \\\n",
            "0  Logistic Regression  0.775362   0.866667  0.490566  0.626506  0.473960   \n",
            "1                  SVM  0.760870   0.833333  0.471698  0.602410  0.489010   \n",
            "2                  KNN  0.775362   0.789474  0.566038  0.659341  0.473960   \n",
            "3    Linear Regression  0.768116   0.862069  0.471698  0.609756  0.481543   \n",
            "4     Ridge Regression  0.768116   0.862069  0.471698  0.609756  0.481543   \n",
            "5     Lasso Regression  0.615942   0.000000  0.000000  0.000000  0.619724   \n",
            "\n",
            "    AUC-ROC  \n",
            "0  0.822642  \n",
            "1  0.822198  \n",
            "2  0.809212  \n",
            "3       N/A  \n",
            "4       N/A  \n",
            "5       N/A  \n"
          ]
        }
      ]
    },
    {
      "cell_type": "code",
      "source": [
        "# 5. Plot ROC Curves for models that support it (Logistic Regression, SVM, KNN)\n",
        "plt.figure(figsize=(10, 8))\n",
        "\n",
        "# Store the best models obtained during hyperparameter tuning\n",
        "best_models = {}\n",
        "\n",
        "for name, model in models.items():\n",
        "    print(f\"Training {name}...\")\n",
        "    # Hyperparameter tuning using GridSearchCV for each model\n",
        "    if name in ['Logistic Regression', 'SVM', 'KNN']:\n",
        "        # Define hyperparameter grid\n",
        "        if name == 'Logistic Regression':\n",
        "            param_grid = {'C': [0.01, 0.1, 1, 10], 'solver': ['liblinear']}\n",
        "        elif name == 'SVM':\n",
        "            param_grid = {'C': [0.1, 1, 10], 'kernel': ['linear', 'rbf']}\n",
        "        elif name == 'KNN':\n",
        "            param_grid = {'n_neighbors': [3, 5, 7, 9], 'metric': ['euclidean', 'manhattan']}\n",
        "\n",
        "        grid_search = GridSearchCV(model, param_grid, cv=5, scoring='accuracy')\n",
        "        grid_search.fit(X_train, y_train)\n",
        "        best_model = grid_search.best_estimator_  # Make sure best_model is used\n",
        "        best_models[name] = best_model # Store the best model\n",
        "        print(f\"Best Params for {name}: {grid_search.best_params_}\")\n",
        "    else:\n",
        "        best_model = model.fit(X_train, y_train)\n",
        "        best_models[name] = best_model # Store the best model\n",
        "\n",
        "\n",
        "for name, model in best_models.items(): # Iterate through best_models instead of models\n",
        "    if name in ['Logistic Regression', 'SVM', 'KNN']:\n",
        "        # Use the best fitted model to get probabilities for ROC curve\n",
        "        y_prob = model.predict_proba(X_test)[:, 1]  # Get probabilities for ROC curve\n",
        "        fpr, tpr, _ = roc_curve(y_test, y_prob)\n",
        "        roc_auc = auc(fpr, tpr)\n",
        "        plt.plot(fpr, tpr, label=f'{name} (AUC = {roc_auc:.2f})')\n",
        "\n",
        "plt.plot([0, 1], [0, 1], color='navy', linestyle='--')\n",
        "plt.xlim([0.0, 1.0])\n",
        "plt.ylim([0.0, 1.05])\n",
        "plt.xlabel('False Positive Rate')\n",
        "plt.ylabel('True Positive Rate')\n",
        "plt.title('Receiver Operating Characteristic (ROC) Curve')\n",
        "plt.legend(loc='lower right')\n",
        "plt.show()"
      ],
      "metadata": {
        "colab": {
          "base_uri": "https://localhost:8080/",
          "height": 874
        },
        "id": "7tFJUhdC5KZL",
        "outputId": "1e69f3e9-be63-4f58-a32b-22cc4a69f8e3"
      },
      "execution_count": 131,
      "outputs": [
        {
          "output_type": "stream",
          "name": "stdout",
          "text": [
            "Training Logistic Regression...\n",
            "Best Params for Logistic Regression: {'C': 0.1, 'solver': 'liblinear'}\n",
            "Training SVM...\n",
            "Best Params for SVM: {'C': 0.1, 'kernel': 'linear'}\n",
            "Training KNN...\n",
            "Best Params for KNN: {'metric': 'manhattan', 'n_neighbors': 9}\n",
            "Training Linear Regression...\n",
            "Training Ridge Regression...\n",
            "Training Lasso Regression...\n"
          ]
        },
        {
          "output_type": "display_data",
          "data": {
            "text/plain": [
              "<Figure size 1000x800 with 1 Axes>"
            ],
            "image/png": "[encoded data removed]"
          },
          "metadata": {}
        }
      ]
    }
  ]
}